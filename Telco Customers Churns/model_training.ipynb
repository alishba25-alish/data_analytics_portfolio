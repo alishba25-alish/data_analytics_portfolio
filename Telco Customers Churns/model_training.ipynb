{
 "cells": [
  {
   "cell_type": "code",
   "execution_count": 8,
   "id": "c1ee8a0f",
   "metadata": {},
   "outputs": [],
   "source": [
    "import pandas as pd\n",
    "from sklearn.model_selection import train_test_split\n",
    "from sklearn.preprocessing import LabelEncoder\n",
    "from sklearn.ensemble import RandomForestClassifier\n",
    "from sklearn.metrics import classification_report, accuracy_score"
   ]
  },
  {
   "cell_type": "code",
   "execution_count": 9,
   "id": "2eb7e0ab",
   "metadata": {},
   "outputs": [
    {
     "name": "stdout",
     "output_type": "stream",
     "text": [
      "   customerID  gender       SeniorCitizen Partner Dependents  tenure  \\\n",
      "0  7590-VHVEG  Female  Not Senior Citizen     Yes         No       1   \n",
      "1  5575-GNVDE    Male  Not Senior Citizen      No         No      34   \n",
      "2  3668-QPYBK    Male  Not Senior Citizen      No         No       2   \n",
      "3  7795-CFOCW    Male  Not Senior Citizen      No         No      45   \n",
      "4  9237-HQITU  Female  Not Senior Citizen      No         No       2   \n",
      "\n",
      "  PhoneService     MultipleLines InternetService OnlineSecurity  ...  \\\n",
      "0           No  No phone service             DSL             No  ...   \n",
      "1          Yes                No             DSL            Yes  ...   \n",
      "2          Yes                No             DSL            Yes  ...   \n",
      "3           No  No phone service             DSL            Yes  ...   \n",
      "4          Yes                No     Fiber optic             No  ...   \n",
      "\n",
      "  TechSupport StreamingTV StreamingMovies        Contract PaperlessBilling  \\\n",
      "0          No          No              No  Month-to-month              Yes   \n",
      "1          No          No              No        One year               No   \n",
      "2          No          No              No  Month-to-month              Yes   \n",
      "3         Yes          No              No        One year               No   \n",
      "4          No          No              No  Month-to-month              Yes   \n",
      "\n",
      "               PaymentMethod MonthlyCharges TotalCharges  Churn  \\\n",
      "0           Electronic check          29.85        29.85     No   \n",
      "1               Mailed check          56.95      1889.50     No   \n",
      "2               Mailed check          53.85       108.15    Yes   \n",
      "3  Bank transfer (automatic)          42.30      1840.75     No   \n",
      "4           Electronic check          70.70       151.65    Yes   \n",
      "\n",
      "      TenureGroup  \n",
      "0     New (0-12m)  \n",
      "1    Mid (13-36m)  \n",
      "2     New (0-12m)  \n",
      "3  Loyal (37-72m)  \n",
      "4     New (0-12m)  \n",
      "\n",
      "[5 rows x 22 columns]\n"
     ]
    }
   ],
   "source": [
    "Customer_Churned = pd.read_excel('C:/Users/DELL/Documents/Telco Customers Churns/Telco_Customer_Churn_Cleaned.xlsx')\n",
    "print(Customer_Churned.head())"
   ]
  },
  {
   "cell_type": "code",
   "execution_count": 10,
   "id": "f6accda8",
   "metadata": {},
   "outputs": [
    {
     "name": "stdout",
     "output_type": "stream",
     "text": [
      "Index(['customerID', 'gender', 'SeniorCitizen', 'Partner', 'Dependents',\n",
      "       'tenure', 'PhoneService', 'MultipleLines', 'InternetService',\n",
      "       'OnlineSecurity', 'OnlineBackup', 'DeviceProtection', 'TechSupport',\n",
      "       'StreamingTV', 'StreamingMovies', 'Contract', 'PaperlessBilling',\n",
      "       'PaymentMethod', 'MonthlyCharges', 'TotalCharges', 'Churn',\n",
      "       'TenureGroup'],\n",
      "      dtype='object')\n"
     ]
    }
   ],
   "source": [
    "print(Customer_Churned.columns)"
   ]
  },
  {
   "cell_type": "code",
   "execution_count": 11,
   "id": "f013dc6a",
   "metadata": {},
   "outputs": [
    {
     "name": "stdout",
     "output_type": "stream",
     "text": [
      "<class 'pandas.core.frame.DataFrame'>\n",
      "RangeIndex: 7032 entries, 0 to 7031\n",
      "Data columns (total 22 columns):\n",
      " #   Column            Non-Null Count  Dtype  \n",
      "---  ------            --------------  -----  \n",
      " 0   customerID        7032 non-null   object \n",
      " 1   gender            7032 non-null   object \n",
      " 2   SeniorCitizen     7032 non-null   object \n",
      " 3   Partner           7032 non-null   object \n",
      " 4   Dependents        7032 non-null   object \n",
      " 5   tenure            7032 non-null   int64  \n",
      " 6   PhoneService      7032 non-null   object \n",
      " 7   MultipleLines     7032 non-null   object \n",
      " 8   InternetService   7032 non-null   object \n",
      " 9   OnlineSecurity    7032 non-null   object \n",
      " 10  OnlineBackup      7032 non-null   object \n",
      " 11  DeviceProtection  7032 non-null   object \n",
      " 12  TechSupport       7032 non-null   object \n",
      " 13  StreamingTV       7032 non-null   object \n",
      " 14  StreamingMovies   7032 non-null   object \n",
      " 15  Contract          7032 non-null   object \n",
      " 16  PaperlessBilling  7032 non-null   object \n",
      " 17  PaymentMethod     7032 non-null   object \n",
      " 18  MonthlyCharges    7032 non-null   float64\n",
      " 19  TotalCharges      7032 non-null   float64\n",
      " 20  Churn             7032 non-null   object \n",
      " 21  TenureGroup       7032 non-null   object \n",
      "dtypes: float64(2), int64(1), object(19)\n",
      "memory usage: 1.2+ MB\n",
      "None\n"
     ]
    }
   ],
   "source": [
    "print(Customer_Churned.info())"
   ]
  },
  {
   "cell_type": "code",
   "execution_count": 12,
   "id": "9fbb66b7",
   "metadata": {},
   "outputs": [],
   "source": [
    "# Features & Target \n",
    "X = Customer_Churned.drop(columns=[\"customerID\", \"Churn\"])\n",
    "y = Customer_Churned[\"Churn\"].map({\"Yes\" : 1, \"No\": 0})"
   ]
  },
  {
   "cell_type": "code",
   "execution_count": 17,
   "id": "e597449d",
   "metadata": {},
   "outputs": [
    {
     "name": "stdout",
     "output_type": "stream",
     "text": [
      "   gender  SeniorCitizen  Partner  Dependents  tenure  PhoneService  \\\n",
      "0       0              0        1           0       1             0   \n",
      "1       1              0        0           0      34             1   \n",
      "2       1              0        0           0       2             1   \n",
      "3       1              0        0           0      45             0   \n",
      "4       0              0        0           0       2             1   \n",
      "\n",
      "   MultipleLines  InternetService  OnlineSecurity  OnlineBackup  \\\n",
      "0              1                0               0             2   \n",
      "1              0                0               2             0   \n",
      "2              0                0               2             2   \n",
      "3              1                0               2             0   \n",
      "4              0                1               0             0   \n",
      "\n",
      "   DeviceProtection  TechSupport  StreamingTV  StreamingMovies  Contract  \\\n",
      "0                 0            0            0                0         0   \n",
      "1                 2            0            0                0         1   \n",
      "2                 0            0            0                0         0   \n",
      "3                 2            2            0                0         1   \n",
      "4                 0            0            0                0         0   \n",
      "\n",
      "   PaperlessBilling  PaymentMethod  MonthlyCharges  TotalCharges  TenureGroup  \n",
      "0                 1              2           29.85         29.85            2  \n",
      "1                 0              3           56.95       1889.50            1  \n",
      "2                 1              3           53.85        108.15            2  \n",
      "3                 0              0           42.30       1840.75            0  \n",
      "4                 1              2           70.70        151.65            2  \n"
     ]
    }
   ],
   "source": [
    "# List of categorical Columns\n",
    "\n",
    "categorical_cols = ['gender', 'SeniorCitizen', 'Partner','Dependents','PhoneService', 'MultipleLines', 'InternetService','OnlineSecurity', 'OnlineBackup', 'DeviceProtection', 'TechSupport', 'StreamingTV', 'StreamingMovies', 'Contract', 'PaperlessBilling', 'PaymentMethod','TenureGroup']\n",
    "\n",
    "le = LabelEncoder()\n",
    "for col in categorical_cols:\n",
    "    X[col] = le.fit_transform(X[col].astype(str))\n",
    "\n",
    "print(X.head())"
   ]
  },
  {
   "cell_type": "code",
   "execution_count": 19,
   "id": "ee301504",
   "metadata": {},
   "outputs": [],
   "source": [
    "X_train, X_test, y_train, y_test = train_test_split(X, y, test_size = 0.2, random_state=42)\n",
    "\n",
    "model = RandomForestClassifier(n_estimators=200, random_state=42)\n",
    "model.fit(X_train, y_train)\n",
    "\n",
    "y_pred = model.predict(X_test)\n",
    "y_prob = model.predict_proba(X_test)[:,1]"
   ]
  },
  {
   "cell_type": "code",
   "execution_count": 20,
   "id": "6f096a1d",
   "metadata": {},
   "outputs": [
    {
     "name": "stdout",
     "output_type": "stream",
     "text": [
      "Accuracy:  0.7853589196872779\n",
      "\n",
      "Classification Report:\n",
      "               precision    recall  f1-score   support\n",
      "\n",
      "           0       0.82      0.90      0.86      1033\n",
      "           1       0.63      0.47      0.54       374\n",
      "\n",
      "    accuracy                           0.79      1407\n",
      "   macro avg       0.73      0.68      0.70      1407\n",
      "weighted avg       0.77      0.79      0.77      1407\n",
      "\n"
     ]
    }
   ],
   "source": [
    "print(\"Accuracy: \", accuracy_score(y_test, y_pred))\n",
    "print(\"\\nClassification Report:\\n\", classification_report(y_test, y_pred))"
   ]
  },
  {
   "cell_type": "code",
   "execution_count": 21,
   "id": "2fb0b224",
   "metadata": {},
   "outputs": [],
   "source": [
    "Customer_Churned[\"Churn_Predicted\"] = model.predict(X)\n",
    "Customer_Churned[\"Churn_Probability\"] = model.predict_proba(X)[:,1]"
   ]
  },
  {
   "cell_type": "code",
   "execution_count": 22,
   "id": "8f1753f2",
   "metadata": {},
   "outputs": [],
   "source": [
    "Customer_Churned.to_excel(\"Telco_Customer_Churn_Predicted.xlsx\")"
   ]
  }
 ],
 "metadata": {
  "kernelspec": {
   "display_name": "Python 3",
   "language": "python",
   "name": "python3"
  },
  "language_info": {
   "codemirror_mode": {
    "name": "ipython",
    "version": 3
   },
   "file_extension": ".py",
   "mimetype": "text/x-python",
   "name": "python",
   "nbconvert_exporter": "python",
   "pygments_lexer": "ipython3",
   "version": "3.13.5"
  }
 },
 "nbformat": 4,
 "nbformat_minor": 5
}
